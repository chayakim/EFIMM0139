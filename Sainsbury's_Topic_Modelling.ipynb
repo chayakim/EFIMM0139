{
  "cells": [
    {
      "cell_type": "markdown",
      "metadata": {
        "id": "view-in-github",
        "colab_type": "text"
      },
      "source": [
        "<a href=\"https://colab.research.google.com/github/chayakim/EFIMM0139/blob/main/Sainsbury's_Topic_Modelling.ipynb\" target=\"_parent\"><img src=\"https://colab.research.google.com/assets/colab-badge.svg\" alt=\"Open In Colab\"/></a>"
      ]
    },
    {
      "cell_type": "markdown",
      "source": [
        "# **\"Sainsbury's\"** Topic Modelling (from negative tweets)\n",
        "\n",
        "---"
      ],
      "metadata": {
        "id": "qt3d2Gg0xCcT"
      }
    },
    {
      "cell_type": "code",
      "execution_count": null,
      "metadata": {
        "colab": {
          "base_uri": "https://localhost:8080/"
        },
        "id": "1pzXq7P5ELjT",
        "outputId": "55c221cf-5878-4151-f1b5-c121213df360"
      },
      "outputs": [
        {
          "output_type": "stream",
          "name": "stderr",
          "text": [
            "/usr/local/lib/python3.11/dist-packages/hdbscan/plots.py:448: DeprecationWarning: invalid escape sequence '\\l'\n",
            "  axis.set_ylabel('$\\lambda$ value')\n",
            "/usr/local/lib/python3.11/dist-packages/hdbscan/robust_single_linkage_.py:154: DeprecationWarning: invalid escape sequence '\\{'\n",
            "  \"\"\"Perform robust single linkage clustering from a vector array\n",
            "[nltk_data] Downloading package punkt to /root/nltk_data...\n",
            "[nltk_data]   Unzipping tokenizers/punkt.zip.\n",
            "[nltk_data] Downloading package stopwords to /root/nltk_data...\n",
            "[nltk_data]   Unzipping corpora/stopwords.zip.\n",
            "[nltk_data] Downloading package punkt_tab to /root/nltk_data...\n",
            "[nltk_data]   Unzipping tokenizers/punkt_tab.zip.\n"
          ]
        },
        {
          "output_type": "execute_result",
          "data": {
            "text/plain": [
              "True"
            ]
          },
          "metadata": {},
          "execution_count": 1
        }
      ],
      "source": [
        "! pip install -q pandas gensim pyLDAvis bertopic nltk gdown matplotlib seaborn\n",
        "\n",
        "import warnings\n",
        "warnings.filterwarnings(\"ignore\", category=DeprecationWarning)\n",
        "\n",
        "import pandas as pd\n",
        "import gensim\n",
        "import gensim.corpora as corpora\n",
        "import pyLDAvis\n",
        "import pyLDAvis.gensim_models\n",
        "from bertopic import BERTopic\n",
        "from nltk.tokenize import word_tokenize\n",
        "from nltk.corpus import stopwords\n",
        "import nltk\n",
        "from gensim.models.coherencemodel import CoherenceModel\n",
        "from sklearn.feature_extraction.text import CountVectorizer\n",
        "import matplotlib.pyplot as plt\n",
        "import seaborn as sns\n",
        "\n",
        "nltk.download('punkt')\n",
        "nltk.download('stopwords')\n",
        "nltk.download('punkt_tab')"
      ]
    },
    {
      "cell_type": "markdown",
      "metadata": {
        "id": "kM4kj0Ou4hfY"
      },
      "source": [
        "# **Text Processing**"
      ]
    },
    {
      "cell_type": "code",
      "execution_count": null,
      "metadata": {
        "colab": {
          "base_uri": "https://localhost:8080/"
        },
        "id": "e-LX7FmWEQrN",
        "outputId": "e5d52db6-e9ae-4d37-b105-4188155d2b36"
      },
      "outputs": [
        {
          "output_type": "stream",
          "name": "stdout",
          "text": [
            "           created_at                                       cleaned_text  \\\n",
            "0 2020-10-01 01:12:18  caralisette concern hard produce sensible nont...   \n",
            "1 2020-10-01 07:38:04                                 yes keep get reply   \n",
            "2 2020-10-01 07:50:41  argos_online pm last night none staff argos br...   \n",
            "3 2020-10-01 08:29:33  helpful thank keep go meantime continue buy lo...   \n",
            "4 2020-10-01 09:01:42  caralisette terrible especially frighten sorry...   \n",
            "\n",
            "  sentiment  \n",
            "0  negative  \n",
            "1  negative  \n",
            "2  negative  \n",
            "3  negative  \n",
            "4  negative  \n"
          ]
        }
      ],
      "source": [
        "#Sainsbury data\n",
        "df_tweet_sains = pd.read_excel('Negative.xlsx')\n",
        "df_tweet_sains.dropna(subset=['cleaned_text'], inplace=True)\n",
        "\n",
        "df_sains = df_tweet_sains.reset_index(drop=True)\n",
        "print(df_sains.head(5))\n",
        "\n"
      ]
    },
    {
      "cell_type": "code",
      "execution_count": null,
      "metadata": {
        "colab": {
          "base_uri": "https://localhost:8080/"
        },
        "id": "SzK4iP0DEdYw",
        "outputId": "105844df-f003-4d19-9c96-6c070710e504"
      },
      "outputs": [
        {
          "output_type": "stream",
          "name": "stdout",
          "text": [
            "0    [caralisette, concern, hard, produce, sensible...\n",
            "1                              [yes, keep, get, reply]\n",
            "2    [pm, last, night, none, staff, argos, bridgeme...\n",
            "3    [helpful, thank, keep, go, meantime, continue,...\n",
            "4    [caralisette, especially, frighten, sorry, any...\n",
            "Name: tokens, dtype: object\n"
          ]
        }
      ],
      "source": [
        "# Combine standard and custom stopwords\n",
        "nltk_stopwords = set(stopwords.words('english'))\n",
        "custom_stopwords = {\n",
        "    \"already\", \"another\", \"awful\", \"bad\", \"business\", \"company\", \"customer\",\n",
        "    \"daveatherton\", \"days\", \"disappoint\", \"employees\", \"expensive\", \"face\", \"feature\", \"find\",\n",
        "    \"fuck\", \"hear\", \"horrible\", \"long\", \"make\", \"minutes\", \"month\", \"nice\", \"notice\", \"online\",\n",
        "    \"organization\", \"poorscousertom\", \"really\", \"report\", \"ridiculous\", \"sad\", \"security\", \"see\",\n",
        "    \"service\", \"services\", \"shame\", \"stupid\", \"take\", \"terrible\", \"tomorrow\", \"vile\", \"wear\",\n",
        "    \"week\", \"work\", \"worse\", \"worst\", \"year\", \"andyburnhamgm\",\"shop\",\"store\"\n",
        "}\n",
        "final_stopwords = nltk_stopwords.union(custom_stopwords)\n",
        "\n",
        "# Tokenization function\n",
        "def tokenize_text(text):\n",
        "    if pd.isnull(text):\n",
        "        return []\n",
        "    words = word_tokenize(str(text).lower())\n",
        "    return [word for word in words if word.isalnum() and word not in final_stopwords]\n",
        "\n",
        "df_sains['tokens'] = df_sains['cleaned_text'].apply(tokenize_text)\n",
        "\n",
        "print(df_sains['tokens'].head())"
      ]
    },
    {
      "cell_type": "markdown",
      "metadata": {
        "id": "HQ9swh5l-Jc0"
      },
      "source": [
        "# **Building LDA and BERTopics**"
      ]
    },
    {
      "cell_type": "code",
      "source": [
        "from gensim import corpora\n",
        "import gensim\n",
        "from bertopic import BERTopic\n",
        "\n",
        "# Define DataFrame names\n",
        "sample_names = [\"df_sains\"]\n",
        "\n",
        "\n",
        "for sample_name in sample_names:\n",
        "    print(f\"\\n============================\\nResults for {sample_name}\\n============================\\n\")\n",
        "\n",
        "\n",
        "    # Retrieve the DataFrame dynamically\n",
        "    sample_df = globals()[sample_name]\n",
        "\n",
        "    # ------------------------------\n",
        "    # LDA Topic Modeling\n",
        "    # ------------------------------\n",
        "    dictionary_tweet = corpora.Dictionary(sample_df['tokens'])\n",
        "    corpus_tweet = [dictionary_tweet.doc2bow(text) for text in sample_df['tokens']]\n",
        "\n",
        "    # Set number of topics\n",
        "    num_topics = 10\n",
        "    lda_model_tweet = gensim.models.LdaModel(\n",
        "        corpus=corpus_tweet,\n",
        "        id2word=dictionary_tweet,\n",
        "        num_topics=num_topics,\n",
        "        random_state=42,\n",
        "        passes=15,\n",
        "        iterations=500,\n",
        "        alpha='auto',\n",
        "        eta='auto',\n",
        "        minimum_probability=0.01\n",
        "    )\n",
        "\n",
        "    # Output LDA topics with top 10 keywords\n",
        "    print(\"----- LDA Topics with Sentiment Matches -----\")\n",
        "    for topic_id, words in lda_model_tweet.show_topics(num_topics=num_topics, num_words=10, formatted=False):\n",
        "        # words is a list of (word, weight) tuples.\n",
        "        topic_words = [word for word, _ in words]\n",
        "        print(f\"Topic {topic_id}: {topic_words}\")\n",
        "\n",
        "    # ------------------------------\n",
        "    # BERTopic Modeling\n",
        "    # ------------------------------\n",
        "    # Fit BERTopic on the text column\n",
        "    topic_model_tweet = BERTopic()\n",
        "    topics_tweet, probs_tweet = topic_model_tweet.fit_transform(sample_df['cleaned_text'])\n",
        "\n",
        "    # Get BERTopic topics\n",
        "    bertopic_topics = topic_model_tweet.get_topics()\n",
        "    num_bertopic_topics = len(bertopic_topics)\n",
        "\n",
        "    # Output BERTopic topics\n",
        "    print(\"\\n----- BERTopic Topics with Sentiment Matches -----\")\n",
        "    print(f\"{num_bertopic_topics} Topics Found\")\n",
        "    for topic_id, words in bertopic_topics.items():\n",
        "        # words is a list of (word, score) tuples.\n",
        "        top_words = words[:10]\n",
        "        topic_words = [word for word, _ in top_words]\n",
        "        print(f\"Topic {topic_id}: {topic_words}\")"
      ],
      "metadata": {
        "colab": {
          "base_uri": "https://localhost:8080/"
        },
        "id": "5UiRcQriWsro",
        "outputId": "fb5d3ede-7d33-4e7d-a0a1-4ce935d7163f"
      },
      "execution_count": null,
      "outputs": [
        {
          "output_type": "stream",
          "name": "stdout",
          "text": [
            "\n",
            "============================\n",
            "Results for df_sains\n",
            "============================\n",
            "\n",
            "----- LDA Topics with Sentiment Matches -----\n",
            "Topic 0: ['gravy', 'collect', 'excludeduk', 'fruit', 'sainsburysnews', 'package', 'forgottenltd', 'deal', 'thing', 'massive']\n",
            "Topic 1: ['delivery', 'please', 'try', 'tell', 'call', 'order', 'slot', 'wait', 'help', 'stock']\n",
            "Topic 2: ['get', 'food', 'buy', 'use', 'back', 'could', 'time', 'order', 'give', 'thank']\n",
            "Topic 3: ['people', 'go', 'would', 'say', 'like', 'think', 'black', 'one', 'need', 'advert']\n",
            "Topic 4: ['coopuk', 'turkey', 'channel', 'box', 'dinner', 'together', 'hours', 'families', 'ads', 'eat']\n",
            "Topic 5: ['best', 'purchase', 'mind', 'exposelies', 'vanillaismd', 'exchange', 'receipt', 'move', 'chunhuams', 'coolrunning']\n",
            "Topic 6: ['nectar', 'bag', 'click', 'park', 'via', 'account', 'months', 'till', 'amount', 'double']\n",
            "Topic 7: ['christmas', 'mask', 'donate', 'navyreg', 'drive', 'available', 'soon', 'million', 'borisjohnson', 'rishisunak']\n",
            "Topic 8: ['day', 'deliver', 'open', 'date', 'items', 'two', 'receive', 'fish', 'dm', 'local']\n",
            "Topic 9: ['refund', 'driver', 'bottle', 'parent', 'tax', 'head', 'lindani', 'downingstreet', 'expect', 'communities']\n",
            "\n",
            "----- BERTopic Topics with Sentiment Matches -----\n",
            "209 Topics Found\n",
            "Topic -1: ['people', 'shop', 'get', 'like', 'go', 'lozzafox', 'store', 'order', 'say', 'would']\n",
            "Topic 0: ['advert', 'family', 'ad', 'ads', 'represent', 'black', 'white', 'people', 'feature', 'tv']\n",
            "Topic 1: ['white', 'racist', 'people', 'black', 'racism', 'racists', 'race', 'turnuptom', 'privilege', 'population']\n",
            "Topic 2: ['christmas', 'family', 'advert', 'celebrate', 'feature', 'xmas', 'black', 'sainsburysxmas', 'ad', 'sainsburysadvert']\n",
            "Topic 3: ['mask', 'wear', 'nose', 'staff', 'face', 'customers', 'cover', 'security', 'properly', 'chin']\n",
            "Topic 4: ['racists', 'shop', 'elsewhere', 'racist', 'customers', 'store', 'somewhere', 'want', 'white', 'supermarket']\n",
            "Topic 5: ['lozzafox', 'pocimop', 'caolanrob', 'tbayfield', 'fuck', 'rascalnorty', 'lozza', 'twat', 'absolute', 'prick']\n",
            "Topic 6: ['dm', 'send', 'automate', 'reply', 'message', 'response', 'options', 'answer', 'ask', 'dms']\n",
            "Topic 7: ['christmas', 'advert', 'ad', 'xmas', 'family', 'love', 'sainsburysxmas', 'year', 'turkey', 'enjoy']\n",
            "Topic 8: ['nectar', 'point', 'double', 'card', 'app', 'vouchers', 'offer', 'use', 'coupon', 'voucher']\n",
            "Topic 9: ['slot', 'book', 'delivery', 'release', 'available', 'week', 'pass', 'midnight', 'december', 'dec']\n",
            "Topic 10: ['donate', 'bank', 'food', 'donations', 'donation', 'poorscousertom', 'add', 'foodbank', 'option', 'trusselltrust']\n",
            "Topic 11: ['frasierharry', 'rockinrobray', 'rwlshmakeup', 'mrsllyons', 'kingbobiiv', 'aghastatitall', 'badbottom', 'jamojacko', 'jonathanpienews', 'tazerofficial']\n",
            "Topic 12: ['lpawley', 'tunny', 'kautosam', 'dave', 'peterobinson', 'beanie', 'pgarrittypaul', 'haynesgreyhound', 'hobgoblinbeer', 'paulhorsesst']\n",
            "Topic 13: ['plastic', 'recycle', 'egg', 'cardboard', 'bag', 'package', 'paper', 'fruit', 'recyclable', 'wrap']\n",
            "Topic 14: ['supermarkets', 'navyreg', 'produce', 'import', 'british', 'supermarket', 'supply', 'farmers', 'lead', 'environmental']\n",
            "Topic 15: ['argosonline', 'argos', 'argoshelpers', 'lozzafox', 'equality', 'shsurrey', 'xbox', 'shergs', 'sakkoira', 'game']\n",
            "Topic 16: ['lego', 'card', 'pack', 'legogroup', 'disappoint', 'last', 'book', 'album', 'collect', 'still']\n",
            "Topic 17: ['refund', 'phone', 'call', 'days', 'service', 'wait', 'order', 'item', 'still', 'week']\n",
            "Topic 18: ['blm', 'movement', 'marxist', 'matter', 'live', 'black', 'support', 'terrorist', 'antifa', 'organisation']\n",
            "Topic 19: ['skywatcherintel', 'airintel', 'ellisdjones', 'strategybin', 'lisakay', 'henry', 'gracexxkay', 'angelfireff', 'alishasaysahaha', 'jcldn']\n",
            "Topic 20: ['fish', 'populations', 'suppliers', 'brink', 'communities', 'petition', 'drive', 'sign', 'local', 'way']\n",
            "Topic 21: ['daisyhaggard', 'ice', 'birandanockitt', 'peas', 'gt', 'sub', 'mrchrisaddison', 'gp', 'lemons', 'pea']\n",
            "Topic 22: ['complaint', 'email', 'contact', 'service', 'twitter', 'customer', 'phone', 'call', 'line', 'address']\n",
            "Topic 23: ['park', 'trolley', 'car', 'bike', 'cycle', 'road', 'trolleys', 'pavements', 'pavement', 'hartscyclery']\n",
            "Topic 24: ['safe', 'space', 'black', 'create', 'colleagues', 'employees', 'feel', 'gather', 'white', 'imply']\n",
            "Topic 25: ['lozzafox', 'racist', 'caolanrob', 'racists', 'gloriah', 'publicly', 'reteu', 'bincedmeef', 'doh', 'wenchintrench']\n",
            "Topic 26: ['gap', 'pay', 'employees', 'ikeijeh', 'ethnicity', 'colleagues', 'ethnic', 'staff', 'safe', 'black']\n",
            "Topic 27: ['lindani', 'lorrainemking', 'hahahahahahahahahahahahaha', 'linda', 'mute', 'north', 'jamesadoncaster', 'carlislecc', 'beverleyknight', 'yazzminnewell']\n",
            "Topic 28: ['ukchange', 'lobby', 'delay', 'mumsforlungs', 'cleanairzones', 'air', 'logisticsuknews', 'via', 'petition', 'membership']\n",
            "Topic 29: ['wipehomophobia', 'sainsburysnews', 'lozzafox', 'nina', 'alisonrebecca', 'topfotogmw', 'cunt', 'adammccusker', 'nothere', 'arf']\n",
            "Topic 30: ['tweet', 'twitter', 'sashie', 'tweetjoesparrow', 'delete', 'tweetroya', 'lgnorxnce', 'reply', 'engagement', 'davidjbond']\n",
            "Topic 31: ['yalibhai', 'yasmin', 'maurice', 'teresadg', 'alibhaibrown', 'file', 'board', 'trolley', 'trolly', 'still']\n",
            "Topic 32: ['tuclothing', 'matalan', 'trousers', 'charlottesantry', 'clothe', 'dress', 'girls', 'letclothesbe', 'tu', 'size']\n",
            "Topic 33: ['wmpolice', 'simondolan', 'police', 'officer', 'happyharrymedia', 'elmtreemc', 'crime', 'law', 'anxiety', 'wmerciapolice']\n",
            "Topic 34: ['turkey', 'turkeys', 'dinner', 'xmas', 'crown', 'stink', 'christmas', 'cook', 'smell', 'open']\n",
            "Topic 35: ['day', 'box', 'close', 'deserve', 'numberpress', 'staff', 'slow', 'open', 'holiday', 'year']\n",
            "Topic 36: ['sainsburysnews', 'sainsburysmag', 'sainsburysxmas', 'sainsburyarch', 'tut', 'sainsburyscss', 'afshinrattansi', 'standard', 'legend', 'sainsburycentre']\n",
            "Topic 37: ['racists', 'lozzafox', 'shop', 'edmofo', 'racist', 'entitle', 'supermarkets', 'racism', 'mission', 'welcome']\n",
            "Topic 38: ['channel', 'coopuk', 'scorpiosting', 'nuwavepictures', 'motherhood', 'incustomer', 'paulonbooks', 'iriadr', 'crandomacts', 'kevinkeveen']\n",
            "Topic 39: ['signal', 'virtue', 'virtual', 'douglaskmurray', 'wanky', 'yalibhai', 'corporate', 'stunt', 'knee', 'corporations']\n",
            "Topic 40: ['animal', 'cruelty', 'farm', 'remarkableduck', 'shoot', 'compost', 'jackwallington', 'animals', 'wildlife', 'gamebirds']\n",
            "Topic 41: ['duncanmacmartin', 'nairnsoatcakes', 'mdlz', 'aniroc', 'nestle', 'kelloggcompany', 'nutellaglobal', 'nicolasnicola', 'sylviebrandt', 'colgate']\n",
            "Topic 42: ['gravy', 'roast', 'boat', 'roasties', 'song', 'homemade', 'dad', 'sing', 'northern', 'everyday']\n",
            "Topic 43: ['date', 'short', 'expire', 'deliver', 'life', 'items', 'days', 'today', 'order', 'shelf']\n",
            "Topic 44: ['lozzafox', 'supermarket', 'laurence', 'whiteys', 'foxys', 'shop', 'ha', 'bhm', 'lozza', 'support']\n",
            "Topic 45: ['jca', 'wklondon', 'jamie', 'hanleeder', 'jamieho', 'deadpool', 'roughguide', 'goddensa', 'jcjjmb', 'harryhpalmer']\n",
            "Topic 46: ['yalibhai', 'bully', 'racist', 'stir', 'witherjay', 'racism', 'elikane', 'bait', 'politicians', 'gang']\n",
            "Topic 47: ['bottle', 'wine', 'water', 'champagne', 'drink', 'buy', 'canister', 'cider', 'prosecco', 'red']\n",
            "Topic 48: ['covid', 'test', 'pubs', 'trace', 'symptoms', 'positive', 'isolate', 'swing', 'covidiots', 'haircut']\n",
            "Topic 49: ['shoreseaweed', 'cheekyps', 'shandyshack', 'binarybotanical', 'odysealtd', 'hamper', 'rydertracey', 'giveaway', 'waterstones', 'fab']\n",
            "Topic 50: ['welshgovernment', 'wales', 'andrewrtdavies', 'welsh', 'fmwales', 'vote', 'voters', 'candidates', 'amandarandall', 'imstejnr']\n",
            "Topic 51: ['michael', 'mikefreedom', 'lwts', 'jade', 'shame', 'mike', 'rate', 'disgrace', 'fuck', 'fplhokage']\n",
            "Topic 52: ['vulnerable', 'slot', 'priority', 'prioritise', 'lockdown', 'customers', 'clinically', 'cerysmatthews', 'bigissuenorths', 'chord']\n",
            "Topic 53: ['emmadotcom', 'abbreviation', 'shorten', 'none', 'sains', 'charcoombs', 'davehunt', 'juanlyall', 'poll', 'abbreviate']\n",
            "Topic 54: ['suemoffet', 'sue', 'opinion', 'charlotteukcity', 'ellasharma', 'tone', 'fascists', 'simonvessey', 'scum', 'red']\n",
            "Topic 55: ['delivery', 'pm', 'deliveroo', 'deliver', 'wait', 'tonight', 'arrive', 'mins', 'service', 'date']\n",
            "Topic 56: ['month', 'history', 'celebrate', 'black', 'blackhistorymonth', 'support', 'lesleyshepherd', 'october', 'sainsbos', 'argosonline']\n",
            "Topic 57: ['yorkshiretea', 'jadechristina', 'lbsouthwark', 'pgtips', 'benandjerrysuk', 'yorkshire', 'smithsonjuan', 'ploughdulwich', 'shootingtimes', 'peterthurlow']\n",
            "Topic 58: ['apartheid', 'south', 'africa', 'vincemryan', 'boer', 'merelymonty', 'introduce', 'promote', 'ski', 'israel']\n",
            "Topic 59: ['family', 'black', 'families', 'white', 'noshariahere', 'realistic', 'imagine', 'bigblackbird', 'dad', 'exist']\n",
            "Topic 60: ['bag', 'dgandyofficial', 'purse', 'carrier', 'sentimental', 'mcrgin', 'aftercfhb', 'causesdoes', 'nickytrickster', 'pick']\n",
            "Topic 61: ['turnuptom', 'bye', 'tom', 'icedteatanic', 'shimmerheather', 'turn', 'sourscience', 'cophiesooper', 'kkkmart', 'lucemcfc']\n",
            "Topic 62: ['browsers', 'app', 'website', 'browser', 'try', 'chrome', 'cache', 'cookies', 'laptop', 'check']\n",
            "Topic 63: ['vegan', 'vegetarian', 'cheese', 'pizza', 'veganuary', 'substitute', 'vegantrademark', 'vegantrailrunr', 'grate', 'range']\n",
            "Topic 64: ['daveatherton', 'kevinmaguire', 'selenasmartarse', 'maguire', 'lie', 'scummedia', 'kevin', 'jatrius', 'lier', 'picture']\n",
            "Topic 65: ['carolpp', 'carol', 'kentglorydog', 'akkasistan', 'caitlincraggs', 'boycott', 'pride', 'reason', 'cow', 'disgust']\n",
            "Topic 66: ['uk', 'brexit', 'britain', 'country', 'countries', 'rwlshmakeup', 'vote', 'british', 'racist', 'overrun']\n",
            "Topic 67: ['driver', 'drivers', 'delivery', 'deliveries', 'call', 'crate', 'lou', 'deliver', 'elderly', 'flat']\n",
            "Topic 68: ['boycott', 'littlemissaudi', 'suzanneevans', 'anthornkewl', 'patwilliams', 'louloubellehmc', 'baggies', 'aparthied', 'thirdrate', 'sodastrea']\n",
            "Topic 69: ['tescoirl', 'sheddistillery', 'celticwhiskey', 'obrienswine', 'dunnesstores', 'julesmahon', 'totalwine', 'supervaluirl', 'monoprix', 'gin']\n",
            "Topic 70: ['qatar', 'qatari', 'shareholder', 'shareholders', 'government', 'largest', 'own', 'principal', 'yalibhai', 'major']\n",
            "Topic 71: ['channel', 'coopuk', 'standagainstracism', 'oneded', 'stand', 'ressilfie', 'ryancrashburn', 'trevorstfc', 'racism', 'ozonelayer']\n",
            "Topic 72: ['shop', 'alone', 'confidence', 'elsewhere', 'choose', 'therefore', 'evouchers', 'socalvalerie', 'lmy', 'dystopian']\n",
            "Topic 73: ['cauliflower', 'sauce', 'salad', 'broccoli', 'lettuce', 'tin', 'lincolnshire', 'plum', 'citrus', 'tomatoes']\n",
            "Topic 74: ['segregation', 'racial', 'discrimination', 'lozzafox', 'promote', 'comparable', 'inclusion', 'mrg', 'bigmikky', 'jcsendon']\n",
            "Topic 75: ['queue', 'inside', 'store', 'trolly', 'distance', 'stattisconie', 'quietest', 'pandemic', 'system', 'socially']\n",
            "Topic 76: ['carrot', 'carrots', 'family', 'kevin', 'relate', 'advert', 'represent', 'bertie', 'themantonhoward', 'vegetables']\n",
            "Topic 77: ['wake', 'break', 'wotuupto', 'ganglsepp', 'go', 'pr', 'hr', 'real', 'team', 'flagellate']\n",
            "Topic 78: ['hand', 'sanitiser', 'sanitise', 'sanitizer', 'wipe', 'touch', 'spray', 'pump', 'sanitisers', 'cleaner']\n",
            "Topic 79: ['stock', 'dawnscrafting', 'btstwt', 'eastbourne', 'information', 'sell', 'restock', 'kedge', 'buy', 'price']\n",
            "Topic 80: ['forshumsangt', 'soxthewavingcat', 'garyraikes', 'nclarke', 'cthulhuben', 'correctingo', 'adammccusker', 'hitler', 'theoretical', 'hwickchris']\n",
            "Topic 81: ['johnwhitbypboro', 'pirate', 'john', 'ugly', 'bigot', 'tpil', 'yarrrrr', 'councillor', 'counties', 'thequartering']\n",
            "Topic 82: ['space', 'safe', 'arseburys', 'unsafe', 'metres', 'colleagues', 'provide', 'need', 'luckylucky', 'graeme']\n",
            "Topic 83: ['bigshamonka', 'leo', 'ban', 'chris', 'list', 'sad', 'shut', 'bosnia', 'teachingjon', 'leoharrison']\n",
            "Topic 84: ['segregation', 'racial', 'actively', 'racism', 'thefilmexciter', 'thomasrobson', 'nonwhites', 'essentially', 'jamojacko', 'merelymonty']\n",
            "Topic 85: ['milk', 'pint', 'oat', 'baby', 'leak', 'stain', 'carton', 'remover', 'litres', 'xpt']\n",
            "Topic 86: ['seafood', 'wild', 'raise', 'catch', 'farm', 'clean', 'fish', 'sell', 'stop', 'come']\n",
            "Topic 87: ['earthbulb', 'noshariahere', 'sicken', 'chris', 'uneducated', 'shut', 'artois', 'gladialex', 'smartest', 'requisite']\n",
            "Topic 88: ['conservatives', 'leodochertyuk', 'appggapssupport', 'amazonuk', 'millions', 'government', 'help', 'excludeduk', 'hand', 'back']\n",
            "Topic 89: ['karen', 'marieblizardgb', 'sparklydingbat', 'claraleigh', 'ianburton', 'karenkts', 'karens', 'justroaming', 'lol', 'stan']\n",
            "Topic 90: ['yalibhai', 'leave', 'country', 'boris', 'abroad', 'uk', 'elect', 'uganda', 'mrsugden', 'brookdev']\n",
            "Topic 91: ['slavery', 'slave', 'brexitjoker', 'calvinrobinson', 'cincusnaveurn', 'benin', 'leslies', 'abolition', 'argosonline', 'trade']\n",
            "Topic 92: ['infoapply', 'assistant', 'driver', 'drivingjobs', 'retailjobs', 'cambridgejobs', 'londonjobs', 'home', 'apply', 'argoscareers']\n",
            "Topic 93: ['scumfckflwrboys', 'debonairchap', 'welshwoman', 'aston', 'mongrelbite', 'motivate', 'quota', 'proud', 'france', 'orange']\n",
            "Topic 94: ['exposelies', 'vanillaismd', 'weaniejeanie', 'chunhuams', 'saturnustea', 'bron', 'drbirute', 'kumbatioyvette', 'coolrunning', 'juliedutto']\n",
            "Topic 95: ['greenjinn', 'sodafolk', 'seedandbean', 'yum', 'holymolydips', 'giveaway', 'perkierfoods', 'sodas', 'folk', 'yummy']\n",
            "Topic 96: ['disability', 'exemption', 'disabilities', 'exemptions', 'hide', 'simondolan', 'wmpolice', 'announcements', 'invisible', 'condition']\n",
            "Topic 97: ['welshmadam', 'debbiesuth', 'debbie', 'bigstevew', 'ryumattel', 'welsh', 'poppop', 'relate', 'glass', 'ya']\n",
            "Topic 98: ['brexit', 'brexitdeal', 'tory', 'mcdonalds', 'otexpert', 'brexitpartyuk', 'mobrexit', 'mexster', 'matthewmcphill', 'brextremist']\n",
            "Topic 99: ['fireworks', 'sale', 'ban', 'sell', 'jayymodel', 'animals', 'retailers', 'public', 'pet', 'fireworksafe']\n",
            "Topic 100: ['mince', 'pies', 'claudiandfin', 'pie', 'cream', 'ice', 'shonaduffy', 'rds', 'elainesavage', 'zoeweatherall']\n",
            "Topic 101: ['panic', 'limit', 'buy', 'supermarkets', 'blockade', 'shortages', 'restrict', 'argyleloz', 'panicbuying', 'goods']\n",
            "Topic 102: ['pudding', 'claudiandfin', 'cheese', 'puddings', 'crackers', 'christmas', 'scherzygaga', 'leebing', 'bexslain', 'bigcol']\n",
            "Topic 103: ['boycott', 'economy', 'boycottsainsburys', 'lozzafox', 'boycottsainsburysandargos', 'failure', 'rise', 'panicbuy', 'officialbrfc', 'trousered']\n",
            "Topic 104: ['troll', 'ginamartinuk', 'account', 'real', 'bots', 'anonymous', 'block', 'bot', 'followers', 'behind']\n",
            "Topic 105: ['history', 'black', 'learn', 'curriculum', 'esspee', 'school', 'month', 'empire', 'slavery', 'whitewash']\n",
            "Topic 106: ['profit', 'ceo', 'tylersbrookes', 'share', 'market', 'company', 'cautionary', 'rogue', 'margaretruane', 'izzybbb']\n",
            "Topic 107: ['billieswife', 'womensthoughtz', 'samwarr', 'andythejay', 'adamcarps', 'leerobe', 'identify', 'war', 'wazza', 'threekidneysmoj']\n",
            "Topic 108: ['blanket', 'pig', 'claudiandfin', 'bacon', 'noodles', 'sausage', 'noms', 'jomcg', 'kaushalcash', 'spagetti']\n",
            "Topic 109: ['boycottsainsburys', 'viesvies', 'boycottsainsburysandargos', 'hurt', 'hit', 'sharkbaitza', 'boringcarlos', 'demise', 'sadburys', 'ajbondway']\n",
            "Topic 110: ['scan', 'smartshop', 'clean', 'checkouts', 'self', 'till', 'bonus', 'checkout', 'rescan', 'machine']\n",
            "Topic 111: ['poorscousertom', 'idea', 'brilliant', 'raufr', 'fascinatorfun', 'great', 'goustocooking', 'desir', 'makro', 'clauswthierbach']\n",
            "Topic 112: ['leedscommfound', 'teamwork', 'earlyhelpleeds', 'fareshareyorks', 'leedsyjs', 'seldn', 'citywestminster', 'mra', 'rethinkfood', 'catfordse']\n",
            "Topic 113: ['andrewdoylecom', 'misinformation', 'andrewf', 'horseshit', 'ttb', 'childrens', 'spread', 'parent', 'bogusnewsviews', 'horrific']\n",
            "Topic 114: ['voterobgill', 'wayland', 'snicklin', 'trendylefty', 'abbyarianwen', 'destroystop', 'lozzafox', 'izziefruity', 'poo', 'pam']\n",
            "Topic 115: ['davepperlmutter', 'graveyard', 'shift', 'tonight', 'david', 'vshowcards', 'darrentassell', 'davemoan', 'dave', 'salute']\n",
            "Topic 116: ['pria', 'lazlay', 'katieelisa', 'gemmunroe', 'louderthanbts', 'english', 'language', 'littlec', 'jbubio', 'winifredlovatt']\n",
            "Topic 117: ['gravy', 'song', 'dad', 'advert', 'bang', 'saw', 'yani', 'yourlavaan', 'leftoveremr', 'whatylaw']\n",
            "Topic 118: ['brownsauc', 'wenchintrench', 'mssassysally', 'lozzafox', 'blah', 'gloriah', 'beat', 'reteu', 'battleofbritai', 'acoustic']\n",
            "Topic 119: ['pku', 'protein', 'exchange', 'dairy', 'free', 'macdonj', 'cookies', 'nutfreelivinguk', 'nutfree', 'unsweetened']\n",
            "Topic 120: ['cancel', 'order', 'cancellation', 'service', 'explanation', 'reschedule', 'without', 'customer', 'notification', 'charge']\n",
            "Topic 121: ['campersmoll', 'shut', 'karen', 'blue', 'dylsmurphy', 'drewsifff', 'lptn', 'fortnums', 'samosas', 'spen']\n",
            "Topic 122: ['noshariahere', 'patrm', 'whatwouldjesussaysusan', 'andyetc', 'hostia', 'gumsion', 'goldstarsk', 'itshyper', 'jadenaesthetic', 'vishrana']\n",
            "Topic 123: ['vouchers', 'voucher', 'discount', 'gift', 'spend', 'honour', 'bonus', 'card', 'useless', 'yewneekphoto']\n",
            "Topic 124: ['footsteps', 'millions', 'join', 'govt', 'receive', 'follow', 'pay', 'coopuk', 'year', 'support']\n",
            "Topic 125: ['dianeboyle', 'samlwantsavoice', 'theouroboros', 'petetaylor', 'keith', 'haha', 'ahahahahahaha', 'bloodycracking', 'timwatt', 'nicnac']\n",
            "Topic 126: ['chicken', 'breast', 'duck', 'roast', 'joint', 'cook', 'nuggets', 'beef', 'halal', 'recipe']\n",
            "Topic 127: ['dividends', 'shareholders', 'zero', 'forgottenltd', 'thing', 'right', 'million', 'govt', 'taste', 'pandemic']\n",
            "Topic 128: ['elenabateman', 'fionari', 'paulangelman', 'fiona', 'didums', 'stacyl', 'inversed', 'antonio', 'slmorgzz', 'ellish']\n",
            "Topic 129: ['simondolan', 'wmpolice', 'simon', 'sue', 'mrkrismcd', 'racketeer', 'diddle', 'helmets', 'mayhemmarket', 'mrmojorising']\n",
            "Topic 130: ['itvnews', 'bbcnews', 'skynews', 'bbcsimonjack', 'bbcbreaking', 'news', 'thesnp', 'coojeebear', 'marr', 'trialling']\n",
            "Topic 131: ['copy', 'book', 'paperback', 'recommend', 'richardosman', 'pop', 'shirlie', 'kemp', 'lovesongsforsceptics', 'bookminxsjv']\n",
            "Topic 132: ['thenolans', 'hmvtweets', 'maureennolan', 'lindanolan', 'nolancoleen', 'gold', 'officialcharts', 'robcopsey', 'candidpublicity', 'amazon']\n",
            "Topic 133: ['barcode', 'scan', 'scale', 'fletchradio', 'print', 'codetap', 'colchester', 'screen', 'smartshop', 'photo']\n",
            "Topic 134: ['distance', 'social', 'store', 'ripley', 'merton', 'staff', 'tannoy', 'busy', 'wall', 'close']\n",
            "Topic 135: ['generalgammon', 'kittylovesalark', 'gn', 'flashman', 'poojathapar', 'rakhsr', 'seliciaturney', 'shizzle', 'fml', 'danieitheman']\n",
            "Topic 136: ['paulsewter', 'pauldoddsm', 'paul', 'paulembery', 'bitch', 'pjcig', 'whiteburys', 'chloerussll', 'itsnotlving', 'jealousy']\n",
            "Topic 137: ['wanderinjules', 'simondolan', 'jules', 'su', 'flagon', 'dianne', 'wmpolice', 'lichen', 'mcrqoorrema', 'keithg']\n",
            "Topic 138: ['katie', 'katieraydee', 'katieget', 'death', 'katieab', 'sockmuffin', 'nicolejcomms', 'hubbard', 'meatcheese', 'imteddybless']\n",
            "Topic 139: ['click', 'collect', 'slot', 'fionajbentley', 'colleuges', 'thermalsatsuma', 'sjmolyn', 'galore', 'cpchris', 'available']\n",
            "Topic 140: ['susan', 'noshariahere', 'spotlight', 'shut', 'diversity', 'susansusan', 'actlikethechristiansofabloodychristiancountry', 'tl', 'alisonmee', 'ohh']\n",
            "Topic 141: ['navyreg', 'faisalbongobong', 'shamangriff', 'statoguy', 'recrowley', 'kanangabond', 'andrewbrookldn', 'barrydennishor', 'jazzmariner', 'hanbyandrew']\n",
            "Topic 142: ['lucie', 'corey', 'thesteve', 'ace', 'tone', 'changer', 'dalef', 'leftybias', 'amandalangsley', 'hybridpanda']\n",
            "Topic 143: ['boycott', 'racists', 'shannonstewarrt', 'asdaor', 'runner', 'goodriddance', 'participate', 'mongs', 'gordanpeterson', 'briandt']\n",
            "Topic 144: ['receipt', 'batteries', 'aaa', 'price', 'energizer', 'expensive', 'send', 'hi', 'max', 'difference']\n",
            "Topic 145: ['poppy', 'poppyappeal', 'poppylegion', 'poppies', 'terry', 'remembrance', 'normally', 'select', 'merchandise', 'recycle']\n",
            "Topic 146: ['stclaires', 'disgust', 'disable', 'assistance', 'hanworth', 'sainburysfc', 'rain', 'mikecoupe', 'abusive', 'rude']\n",
            "Topic 147: ['yani', 'division', 'nerve', 'nichickman', 'ryanking', 'devision', 'superashbro', 'dumbfuck', 'peice', 'skunk']\n",
            "Topic 148: ['law', 'viral', 'mask', 'baronesspawsey', 'ill', 'taylofabi', 'mrds', 'immunesuper', 'anxious', 'exemption']\n",
            "Topic 149: ['debbiesuth', 'shutupidiot', 'debbie', 'specky', 'lucykathrynwood', 'hot', 'vacuous', 'besfordphil', 'sorrymust', 'wahhhh']\n",
            "Topic 150: ['gammon', 'wall', 'scottliv', 'lephantomdennis', 'lorenzodjrenz', 'definitions', 'buhbye', 'gazsa', 'hobbitoncentral', 'stormbeard']\n",
            "Topic 151: ['markbonw', 'mohawk', 'dckyr', 'leoncomissiong', 'scornpaul', 'marianh', 'bake', 'argosonline', 'socialism', 'production']\n",
            "Topic 152: ['microwave', 'oven', 'brownie', 'cling', 'gf', 'recipe', 'film', 'misprint', 'cookbook', 'nodeal']\n",
            "Topic 153: ['gender', 'kellymartinuk', 'female', 'veterangameruk', 'justjennie', 'irregulardave', 'xxxtoriaxx', 'babycassidy', 'creatorelohim', 'chromosome']\n",
            "Topic 154: ['relief', 'rat', 'therangeuk', 'business', 'rishisunak', 'fantastic', 'amazonuk', 'excludeduk', 'forgottenltd', 'decent']\n",
            "Topic 155: ['titaniamcgrath', 'iminagonyaunt', 'pitiful', 'polemiccont', 'davecurtis', 'clownish', 'cringeworthy', 'daverob', 'eagleeyed', 'eyegouging']\n",
            "Topic 156: ['andyburnhamgm', 'rishisunak', 'forgottenltd', 'excludeduk', 'borisjohnson', 'pot', 'opportunity', 'hope', 'jackdromeymp', 'indefensible']\n",
            "Topic 157: ['bite', 'cessation', 'autotune', 'toughen', 'squidcynical', 'grantlondon', 'antibiotics', 'anywaywear', 'errrrmmmm', 'sandysharp']\n",
            "Topic 158: ['price', 'clubcard', 'cheaper', 'cstoretweets', 'simplyfreshuk', 'successful', 'trial', 'actively', 'club', 'target']\n",
            "Topic 159: ['gspellchecker', 'mkeharris', 'calnomask', 'mikepwilliams', 'werhners', 'fuckwittery', 'bensturland', 'thedudeinsf', 'suilebheinn', 'springsummer']\n",
            "Topic 160: ['alarm', 'fire', 'sleep', 'woolwich', 'residents', 'test', 'surefire', 'disposition', 'maidenhead', 'oodles']\n",
            "Topic 161: ['pumpkin', 'carve', 'pumpkins', 'boxer', 'halloween', 'bitter', 'rot', 'stink', 'rotten', 'mouldy']\n",
            "Topic 162: ['rishisunak', 'bmstores', 'commonstreasury', 'fund', 'borisjohnson', 'thing', 'zero', 'forgottenltd', 'right', 'govt']\n",
            "Topic 163: ['chrismc', 'chrischirp', 'chrisdshaw', 'donie', 'nooooooop', 'screamingggg', 'natteitler', 'chrisdbarnett', 'duaineasamuels', 'maryobarton']\n",
            "Topic 164: ['oil', 'palm', 'palmoil', 'sustainable', 'wwf', 'spreadable', 'palmoilscorecard', 'choosesustainable', 'saveorangutans', 'butter']\n",
            "Topic 165: ['equality', 'privilege', 'oppress', 'lesbimum', 'georgetait', 'unity', 'tend', 'gay', 'society', 'myth']\n",
            "Topic 166: ['payment', 'bank', 'method', 'card', 'fail', 'credit', 'ihaveanudge', 'hereshopping', 'barclaysukhelp', 'smithlaura']\n",
            "Topic 167: ['graduate', 'hwuga', 'universities', 'ones', 'pound', 'aloksharmardg', 'tertianship', 'moneysavingsexpert', 'ulti', 'routines']\n",
            "Topic 168: ['claudiandfin', 'lesleyfoottit', 'janetpscott', 'stollen', 'gateau', 'staceyrowe', 'mumoftoo', 'daledow', 'sharrond', 'claude']\n",
            "Topic 169: ['tory', 'donors', 'imajsaclaimant', 'party', 'kenneth', 'list', 'hungry', 'donations', 'correctedupdated', 'donor']\n",
            "Topic 170: ['atrebor', 'jprjpr', 'cheekylatte', 'bulldog', 'elliotazim', 'davidjmitch', 'quinndave', 'panlidsid', 'kimsanzone', 'greyadvocateuk']\n",
            "Topic 171: ['richardosman', 'ha', 'copy', 'richardodurrant', 'wobbly', 'plagiarism', 'wheres', 'walesessential', 'crossword', 'suitcase']\n",
            "Topic 172: ['rat', 'relief', 'bn', 'business', 'coronavirus', 'dividends', 'hand', 'pay', 'grant', 'save']\n",
            "Topic 173: ['stock', 'christmas', 'food', 'xmas', 'order', 'stockdoes', 'preorder', 'mouthwash', 'instoreracked', 'mrspoon']\n",
            "Topic 174: ['stabbyjesus', 'tough', 'childhood', 'abuse', 'life', 'luck', 'laud', 'sufferers', 'karmayou', 'jenwriterp']\n",
            "Topic 175: ['disgust', 'jongreen', 'hd', 'bainsxiii', 'unrelatable', 'sparklinggemzz', 'texture', 'willowispish', 'cebohon', 'unpalatable']\n",
            "Topic 176: ['buwygfib', 'politicovito', 'teddypendergraz', 'boundedo', 'lcpdr', 'voter', 'fraud', 'knowmypronounz', 'president', 'data']\n",
            "Topic 177: ['saffrontulip', 'thewhitebfly', 'nationaltrust', 'sakkoira', 'sahidlfc', 'boofuckinghoo', 'sabjihunter', 'absurdity', 'anyways', 'hahaha']\n",
            "Topic 178: ['homebargains', 'swizzelsmatlow', 'nisalocally', 'sparintheuk', 'lovewilko', 'bmstores', 'violets', 'parma', 'lollies', 'chocoranges']\n",
            "Topic 179: ['mrking', 'plymuffmartin', 'thru', 'pluxk', 'jenx', 'bigdazza', 'ladwant', 'jorrylad', 'dunningkruger', 'pringer']\n",
            "Topic 180: ['flag', 'eu', 'fanatical', 'shagger', 'ianstev', 'recrowley', 'nationalist', 'ian', 'kindly', 'boss']\n",
            "Topic 181: ['wait', 'still', 'nope', 'motheroftiggers', 'slow', 'hopefully', 'rude', 'extremely', 'late', 'catch']\n",
            "Topic 182: ['grahamcountrys', 'graham', 'grahamh', 'grahamcoxon', 'amigo', 'bliss', 'trebuchet', 'wyethdean', 'dean', 'fling']\n",
            "Topic 183: ['cancel', 'culture', 'snowflakery', 'billthehammer', 'cancelsocialism', 'lanceforman', 'culturemake', 'patricks', 'peteccowan', 'willcarling']\n",
            "Topic 184: ['rostiernan', 'tr', 'starkguy', 'stefanbarnes', 'elpanthero', 'sammyfidoe', 'judgemental', 'theashkenazi', 'djchubbybubble', 'respect']\n",
            "Topic 185: ['wotuupto', 'philiphunn', 'chile', 'naa', 'ollypomfret', 'lash', 'wotwitwotwotwow', 'snowflake', 'hoe', 'wouldilieu']\n",
            "Topic 186: ['goodnight', 'tiff', 'folks', 'adlynch', 'donnab', 'ooherdot', 'boringolefart', 'bestie', 'amsterdamnurse', 'encouragement']\n",
            "Topic 187: ['pandemic', 'footsteps', 'cash', 'govt', 'receive', 'follow', 'money', 'moral', 'lie', 'give']\n",
            "Topic 188: ['manchester', 'greater', 'across', 'bedford', 'fortum', 'greatbretten', 'lambert', 'bedfordshirehertfordshirebuckinghamshire', 'hitscashforkids', 'pripley']\n",
            "Topic 189: ['amend', 'order', 'website', 'update', 'tomorrow', 'discard', 'error', 'page', 'checkout', 'technical']\n",
            "Topic 190: ['counter', 'deli', 'meat', 'fish', 'close', 'fresh', 'butcher', 'fishmeat', 'relatedother', 'fisheliciousuk']\n",
            "Topic 191: ['items', 'order', 'overload', 'saic', 'ther', 'wrapper', 'ring', 'pack', 'sneaky', 'incomplete']\n",
            "Topic 192: ['toilets', 'female', 'toilet', 'facilities', 'men', 'employees', 'womens', 'disable', 'male', 'law']\n",
            "Topic 193: ['chop', 'app', 'hour', 'deliver', 'tompeck', 'appallingly', 'laziness', 'unsuccessfully', 'order', 'groceries']\n",
            "Topic 194: ['barristersecret', 'law', 'stephensben', 'lawyers', 'guilty', 'legal', 'davidallengreen', 'clairedocdavies', 'louisecv', 'limitation']\n",
            "Topic 195: ['tax', 'excludeduk', 'andyburnhamgm', 'forgottenltd', 'employ', 'pay', 'rishisunak', 'self', 'claim', 'paye']\n",
            "Topic 196: ['colour', 'edit', 'skin', 'search', 'bar', 'tommorbritish', 'bepispeter', 'pagantrelawney', 'chanelaffrikah', 'chevvyamy']\n",
            "Topic 197: ['eu', 'navyreg', 'hughie', 'nictrades', 'adadaft', 'equissentially', 'minimum', 'davidow', 'wage', 'annemar']\n",
            "Topic 198: ['marcusrashford', 'families', 'school', 'hamper', 'help', 'meals', 'scheme', 'aceil', 'brettd', 'stopchildfoodpoverty']\n",
            "Topic 199: ['bluecollartory', 'esthermcvey', 'timexcludeduk', 'liitlemitch', 'lincscoop', 'karlmccartney', 'cvccapital', 'blackrock', 'bridgepointpe', 'maureenblair']\n",
            "Topic 200: ['alfredlamowen', 'preach', 'lecture', 'jeeta', 'gfy', 'antonybutcher', 'paulgerrard', 'jeetapatel', 'legacy', 'roundlike']\n",
            "Topic 201: ['angierejoineu', 'baltastic', 'robwww', 'perkynana', 'craigja', 'behave', 'company', 'hydehousing', 'davmacrun', 'brexity']\n",
            "Topic 202: ['terrymcgregor', 'naaddiiaaaaaa', 'lizziesdj', 'itskimmyle', 'emphasize', 'racismdog', 'deathnate', 'immaturity', 'heterosexual', 'lifestyle']\n",
            "Topic 203: ['hedgehog', 'hedgehogsociety', 'hedgehogs', 'bootsuk', 'jlandpartners', 'hog', 'christmasadvert', 'habitat', 'pet', 'usp']\n",
            "Topic 204: ['susan', 'noshariahere', 'advert', 'entail', 'monk', 'tibetan', 'sigh', 'format', 'practise', 'hindu']\n",
            "Topic 205: ['harass', 'policy', 'abide', 'police', 'adult', 'except', 'reprehensible', 'jaynelinney', 'jasonleitch', 'drgregorsmith']\n",
            "Topic 206: ['halloween', 'childminder', 'costume', 'trick', 'homebargains', 'treat', 'gerimcc', 'cliftondownsc', 'decor', 'frightfully']\n",
            "Topic 207: ['luciusvorenus', 'kaaylaaaa', 'briangoldsmith', 'disadvantage', 'divide', 'marginalisation', 'ignorance', 'exclaim', 'richest', 'wtp']\n"
          ]
        }
      ]
    },
    {
      "cell_type": "markdown",
      "metadata": {
        "id": "0aCs7eM9-etF"
      },
      "source": [
        "# **Evaluation**\n",
        "\n",
        "1.  Coherence Evaluation\n",
        "2.  Diversity\n",
        "\n"
      ]
    },
    {
      "cell_type": "markdown",
      "metadata": {
        "id": "9yrR8UxhCPMk"
      },
      "source": [
        "**Coherence Score**"
      ]
    },
    {
      "cell_type": "code",
      "execution_count": null,
      "metadata": {
        "colab": {
          "base_uri": "https://localhost:8080/"
        },
        "id": "gVeSinbLKydc",
        "outputId": "84f5758c-fda2-4665-88ea-e69c805eeef5"
      },
      "outputs": [
        {
          "name": "stdout",
          "output_type": "stream",
          "text": [
            "LDA Coherence Score: 0.422\n",
            "BERTopic Coherence Score: 0.469\n"
          ]
        }
      ],
      "source": [
        "from gensim.models.coherencemodel import CoherenceModel\n",
        "\n",
        "# Extract the top 10 keywords for each BERTopic topic\n",
        "ber_topic_tokens = [[word for word, _ in topic[:10]] for topic in bertopic_topics.values()]\n",
        "\n",
        "# Filter out any empty topics to avoid errors\n",
        "ber_topic_tokens = [topic for topic in ber_topic_tokens if topic]\n",
        "\n",
        "# Compute Coherence Score for LDA\n",
        "coherence_model_lda = CoherenceModel(\n",
        "    model=lda_model_tweet, texts= sample_df['tokens'], dictionary=dictionary_tweet, coherence='c_v'\n",
        ")\n",
        "coherence_lda = coherence_model_lda.get_coherence()\n",
        "\n",
        "# Convert BERTopic tokens to token IDs using the LDA dictionary\n",
        "ber_topic_token_ids = [[dictionary_tweet.token2id.get(word, -1) for word in topic] for topic in ber_topic_tokens]  # -1 for unknown words\n",
        "ber_topic_token_ids = [[token_id for token_id in topic if token_id != -1] for topic in ber_topic_token_ids] # Filter out -1(out-of-vocabulary)\n",
        "\n",
        "# Filter out empty lists from ber_topic_token_ids\n",
        "ber_topic_token_ids = [topic_ids for topic_ids in ber_topic_token_ids if topic_ids]\n",
        "\n",
        "# Compute Coherence Score for BERTopic using the LDA dictionary\n",
        "coherence_model_bertopic = CoherenceModel(\n",
        "    topics=ber_topic_token_ids, texts=sample_df['tokens'], dictionary=dictionary_tweet, coherence='c_v'\n",
        ")\n",
        "coherence_bertopic = coherence_model_bertopic.get_coherence()\n",
        "\n",
        "print(f\"LDA Coherence Score: {coherence_lda:.3f}\")\n",
        "print(f\"BERTopic Coherence Score: {coherence_bertopic:.3f}\")"
      ]
    },
    {
      "cell_type": "markdown",
      "metadata": {
        "id": "X0HkxA0QCS0N"
      },
      "source": [
        "**Diversity**"
      ]
    },
    {
      "cell_type": "code",
      "execution_count": null,
      "metadata": {
        "colab": {
          "base_uri": "https://localhost:8080/"
        },
        "id": "HfuMK23-JIyt",
        "outputId": "0ba4c48c-261e-4d4a-b39f-372c7c2f0c59"
      },
      "outputs": [
        {
          "name": "stdout",
          "output_type": "stream",
          "text": [
            "LDA Topic Diversity Score: 0.993\n",
            "BERTopic Topic Diversity Score: 0.844\n"
          ]
        }
      ],
      "source": [
        "# LDA diversity\n",
        "def calculate_lda_topic_diversity(lda_model, top_n_words=10):\n",
        "    topics = lda_model.show_topics(num_topics=lda_model.num_topics, num_words=top_n_words, formatted=False)\n",
        "    unique_words = set()\n",
        "    for topic in topics:\n",
        "        unique_words.update([word for word, _ in topic[1]])\n",
        "    return len(unique_words) / (top_n_words * lda_model.num_topics)\n",
        "\n",
        "lda_topic_diversity = calculate_lda_topic_diversity(lda_model_tweet)\n",
        "\n",
        "# BERTopic diversity\n",
        "def calculate_topic_diversity(model, top_n_words=10):\n",
        "    words = model.get_topics()\n",
        "    unique_words = set()\n",
        "    for topic in words.values():\n",
        "        unique_words.update([word for word, _ in topic[:top_n_words]])\n",
        "    return len(unique_words) / (top_n_words * len(words))\n",
        "\n",
        "bertopic_topic_diversity = calculate_topic_diversity(topic_model_tweet)\n",
        "\n",
        "print(f\"LDA Topic Diversity Score: {lda_topic_diversity:.3f}\")\n",
        "print(f\"BERTopic Topic Diversity Score: {bertopic_topic_diversity:.3f}\")\n"
      ]
    },
    {
      "cell_type": "markdown",
      "metadata": {
        "id": "GLibMz3772x7"
      },
      "source": [
        "# **Finding Optimal number of topics**"
      ]
    },
    {
      "cell_type": "markdown",
      "metadata": {
        "id": "uRBr1LKX_C2c"
      },
      "source": [
        "### Using Coherence score to calculate"
      ]
    },
    {
      "cell_type": "code",
      "execution_count": null,
      "metadata": {
        "colab": {
          "base_uri": "https://localhost:8080/",
          "height": 833
        },
        "id": "SKNbg_qv8TVr",
        "outputId": "cf8991e6-eb87-479c-bbba-aae1b6b17c56"
      },
      "outputs": [
        {
          "name": "stdout",
          "output_type": "stream",
          "text": [
            "Num Topics: 2, Coherence Score: 0.4914\n",
            "Num Topics: 3, Coherence Score: 0.4699\n",
            "Num Topics: 4, Coherence Score: 0.4470\n",
            "Num Topics: 5, Coherence Score: 0.4188\n",
            "Num Topics: 6, Coherence Score: 0.3929\n",
            "Num Topics: 7, Coherence Score: 0.4652\n",
            "Num Topics: 8, Coherence Score: 0.4245\n",
            "Num Topics: 9, Coherence Score: 0.4320\n",
            "Num Topics: 10, Coherence Score: 0.4551\n",
            "Num Topics: 11, Coherence Score: 0.4182\n",
            "Num Topics: 12, Coherence Score: 0.3936\n",
            "Num Topics: 13, Coherence Score: 0.4416\n",
            "Num Topics: 14, Coherence Score: 0.4181\n",
            "Num Topics: 15, Coherence Score: 0.3969\n",
            "Num Topics: 16, Coherence Score: 0.3965\n",
            "Num Topics: 17, Coherence Score: 0.3891\n",
            "Num Topics: 18, Coherence Score: 0.4006\n",
            "Num Topics: 19, Coherence Score: 0.3664\n"
          ]
        },
        {
          "data": {
            "image/png": "[encoded data removed]",
            "text/plain": [
              "<Figure size 800x500 with 1 Axes>"
            ]
          },
          "metadata": {},
          "output_type": "display_data"
        },
        {
          "name": "stdout",
          "output_type": "stream",
          "text": [
            "Optimal Number of Topics: 2\n"
          ]
        }
      ],
      "source": [
        "import gensim\n",
        "import gensim.corpora as corpora\n",
        "from gensim.models import CoherenceModel\n",
        "import matplotlib.pyplot as plt\n",
        "\n",
        "# Convert the 'tokens' column in the DataFrame to a list of tokenized texts\n",
        "tokenized_texts = sample_df['tokens'].tolist()\n",
        "\n",
        "# Create a dictionary mapping each word\n",
        "dictionary_tweet = corpora.Dictionary(tokenized_texts)\n",
        "\n",
        "# Convert each tokenized text into a BoW\n",
        "corpus_tweet = [dictionary_tweet.doc2bow(text) for text in tokenized_texts]\n",
        "\n",
        "# Compute coherence scores over a range of topic numbers\n",
        "def compute_coherence_values(dictionary, corpus, texts, topic_range):\n",
        "    coherence_scores = []\n",
        "    # Loop over each number of topics to evaluate model coherence and train LDA model with the specified number of topics\n",
        "    for num_topics in topic_range:\n",
        "        lda_model = gensim.models.LdaModel(\n",
        "            corpus=corpus,\n",
        "            id2word=dictionary,\n",
        "            num_topics=num_topics,\n",
        "            random_state=42,\n",
        "            passes=10,\n",
        "            iterations=200\n",
        "        )\n",
        "\n",
        "        # Compute coherence score using the c_v metric\n",
        "        coherence_model = CoherenceModel(\n",
        "            model=lda_model, texts=texts, dictionary=dictionary, coherence='c_v'\n",
        "        )\n",
        "        coherence_score = coherence_model.get_coherence()\n",
        "        coherence_scores.append(coherence_score)\n",
        "        print(f\"Num Topics: {num_topics}, Coherence Score: {coherence_score:.4f}\")\n",
        "\n",
        "    return coherence_scores\n",
        "\n",
        "# Define the range of topic numbers to evaluate\n",
        "topic_range = range(2, 20)\n",
        "\n",
        "# Compute coherence scores across the specified topic range\n",
        "coherence_scores = compute_coherence_values(dictionary_tweet, corpus_tweet, tokenized_texts, topic_range)\n",
        "\n",
        "# Plot the coherance scores\n",
        "plt.figure(figsize=(8, 5))\n",
        "plt.plot(topic_range, coherence_scores, marker='o', linestyle='-')\n",
        "plt.xlabel(\"Number of Topics\")\n",
        "plt.ylabel(\"Coherence Score\")\n",
        "plt.title(\"Coherence Score vs. Number of Topics\")\n",
        "plt.grid()\n",
        "plt.show()\n",
        "\n",
        "optimal_topic_num = topic_range[coherence_scores.index(max(coherence_scores))]\n",
        "print(f\"Optimal Number of Topics: {optimal_topic_num}\")"
      ]
    },
    {
      "cell_type": "code",
      "execution_count": null,
      "metadata": {
        "colab": {
          "background_save": true,
          "base_uri": "https://localhost:8080/"
        },
        "id": "ZhB4MBYV8XmH",
        "outputId": "4e54145a-1a69-4065-a7be-a370e8169386"
      },
      "outputs": [
        {
          "name": "stderr",
          "output_type": "stream",
          "text": [
            "[nltk_data] Downloading package punkt to /root/nltk_data...\n",
            "[nltk_data]   Package punkt is already up-to-date!\n"
          ]
        },
        {
          "name": "stdout",
          "output_type": "stream",
          "text": [
            "Num Topics: 2, Coherence Score: 0.4623\n",
            "Num Topics: 3, Coherence Score: 0.6004\n",
            "Num Topics: 4, Coherence Score: 0.4268\n",
            "Num Topics: 5, Coherence Score: 0.4341\n",
            "Num Topics: 6, Coherence Score: 0.4974\n",
            "Num Topics: 7, Coherence Score: 0.5237\n",
            "Num Topics: 8, Coherence Score: 0.5661\n",
            "Num Topics: 9, Coherence Score: 0.5328\n",
            "Num Topics: 10, Coherence Score: 0.4588\n",
            "Num Topics: 11, Coherence Score: 0.4858\n",
            "Num Topics: 12, Coherence Score: 0.4878\n",
            "Num Topics: 13, Coherence Score: 0.4838\n",
            "Num Topics: 14, Coherence Score: 0.4891\n",
            "Num Topics: 15, Coherence Score: 0.5165\n",
            "Num Topics: 16, Coherence Score: 0.4720\n",
            "Num Topics: 17, Coherence Score: 0.4219\n",
            "Num Topics: 18, Coherence Score: 0.4801\n",
            "Num Topics: 19, Coherence Score: 0.5032\n"
          ]
        },
        {
          "data": {
            "image/png": "[encoded data removed]",
            "text/plain": [
              "<Figure size 1000x500 with 1 Axes>"
            ]
          },
          "metadata": {},
          "output_type": "display_data"
        }
      ],
      "source": [
        "from gensim.models.coherencemodel import CoherenceModel\n",
        "from gensim.corpora.dictionary import Dictionary\n",
        "from sklearn.feature_extraction.text import CountVectorizer\n",
        "from nltk.tokenize import word_tokenize\n",
        "import nltk\n",
        "nltk.download('punkt')\n",
        "\n",
        "# Tokenize the text data for coherence calculation\n",
        "docs_tokenized = [word_tokenize(doc.lower()) for doc in sample_df['cleaned_text']]\n",
        "\n",
        "# Initialize list to store coherence scores\n",
        "coherence_scores = []\n",
        "topic_range = range(2, 20)\n",
        "\n",
        "for n_topics in topic_range:\n",
        "    # Fit BERTopic with a set number of topics\n",
        "    topic_model = BERTopic(nr_topics=n_topics)\n",
        "    topics, probs = topic_model.fit_transform(sample_df['cleaned_text'])\n",
        "\n",
        "    # Extract topic words\n",
        "    topic_words = [topic_model.get_topic(i) for i in range(n_topics)]\n",
        "    topic_words = [[word for word, _ in topic] for topic in topic_words if topic]\n",
        "\n",
        "    # Prepare dictionary for coherence model\n",
        "    dictionary = Dictionary(docs_tokenized)\n",
        "\n",
        "    # Compute Coherence Score using the c_v metric\n",
        "    coherence_model = CoherenceModel(topics=topic_words,\n",
        "                                     texts=docs_tokenized,\n",
        "                                     dictionary=dictionary,\n",
        "                                     coherence='c_v')\n",
        "    coherence_score = coherence_model.get_coherence()\n",
        "    coherence_scores.append(coherence_score)\n",
        "\n",
        "    # Print the coherence score\n",
        "    print(f\"Num Topics: {n_topics}, Coherence Score: {coherence_score:.4f}\")\n",
        "\n",
        "# Plot coherence score for each topic number\n",
        "import matplotlib.pyplot as plt\n",
        "\n",
        "plt.figure(figsize=(10, 5))\n",
        "plt.plot(topic_range, coherence_scores, marker='o')\n",
        "plt.xlabel(\"Number of Topics\")\n",
        "plt.ylabel(\"Coherence Score\")\n",
        "plt.title(\"Coherence Score vs. Number of Topics\")\n",
        "plt.grid(True)\n",
        "plt.show()"
      ]
    },
    {
      "cell_type": "markdown",
      "metadata": {
        "id": "9a-D1IBv8E1o"
      },
      "source": [
        "# **Visualization**"
      ]
    },
    {
      "cell_type": "markdown",
      "metadata": {
        "id": "ZCISi_frLp_B"
      },
      "source": [
        "# **Topic Terms**"
      ]
    },
    {
      "cell_type": "code",
      "execution_count": null,
      "metadata": {
        "colab": {
          "base_uri": "https://localhost:8080/",
          "height": 342
        },
        "id": "niIkwdMzLp_B",
        "outputId": "0709181b-783a-48a4-a5b2-0124eaf6d737"
      },
      "outputs": [
        {
          "output_type": "display_data",
          "data": {
            "text/html": [
              "<html>\n",
              "<head><meta charset=\"utf-8\" /></head>\n",
              "<body>\n",
              "    <div>            <script src=\"https://cdnjs.cloudflare.com/ajax/libs/mathjax/2.7.5/MathJax.js?config=TeX-AMS-MML_SVG\"></script><script type=\"text/javascript\">if (window.MathJax && window.MathJax.Hub && window.MathJax.Hub.Config) {window.MathJax.Hub.Config({SVG: {font: \"STIX-Web\"}});}</script>                <script type=\"text/javascript\">window.PlotlyConfig = {MathJaxConfig: 'local'};</script>\n",
              "        <script charset=\"utf-8\" src=\"https://cdn.plot.ly/plotly-2.35.2.min.js\"></script>                <div id=\"01a475d3-9dd1-45f1-8480-cf9de02885ab\" class=\"plotly-graph-div\" style=\"height:325.0px; width:1000px;\"></div>            <script type=\"text/javascript\">                                    window.PLOTLYENV=window.PLOTLYENV || {};                                    if (document.getElementById(\"01a475d3-9dd1-45f1-8480-cf9de02885ab\")) {                    Plotly.newPlot(                        \"01a475d3-9dd1-45f1-8480-cf9de02885ab\",                        [{\"marker\":{\"color\":\"#D55E00\"},\"orientation\":\"h\",\"x\":[0.015505658527060023,0.015660531908371036,0.015854196534919797,0.017881401844795957,0.04799569677768315],\"y\":[\"represent  \",\"ads  \",\"ad  \",\"family  \",\"advert  \"],\"type\":\"bar\",\"xaxis\":\"x\",\"yaxis\":\"y\"},{\"marker\":{\"color\":\"#0072B2\"},\"orientation\":\"h\",\"x\":[0.012588191183850121,0.012768101231492659,0.015436689630852948,0.023354255060952463,0.02742471398730556],\"y\":[\"racism  \",\"black  \",\"people  \",\"racist  \",\"white  \"],\"type\":\"bar\",\"xaxis\":\"x2\",\"yaxis\":\"y2\"},{\"marker\":{\"color\":\"#CC79A7\"},\"orientation\":\"h\",\"x\":[0.018087612633870948,0.019158295858271848,0.02766349437143657,0.028332962048937742,0.04295508786353167],\"y\":[\"feature  \",\"celebrate  \",\"advert  \",\"family  \",\"christmas  \"],\"type\":\"bar\",\"xaxis\":\"x3\",\"yaxis\":\"y3\"}],                        {\"template\":{\"data\":{\"barpolar\":[{\"marker\":{\"line\":{\"color\":\"white\",\"width\":0.5},\"pattern\":{\"fillmode\":\"overlay\",\"size\":10,\"solidity\":0.2}},\"type\":\"barpolar\"}],\"bar\":[{\"error_x\":{\"color\":\"#2a3f5f\"},\"error_y\":{\"color\":\"#2a3f5f\"},\"marker\":{\"line\":{\"color\":\"white\",\"width\":0.5},\"pattern\":{\"fillmode\":\"overlay\",\"size\":10,\"solidity\":0.2}},\"type\":\"bar\"}],\"carpet\":[{\"aaxis\":{\"endlinecolor\":\"#2a3f5f\",\"gridcolor\":\"#C8D4E3\",\"linecolor\":\"#C8D4E3\",\"minorgridcolor\":\"#C8D4E3\",\"startlinecolor\":\"#2a3f5f\"},\"baxis\":{\"endlinecolor\":\"#2a3f5f\",\"gridcolor\":\"#C8D4E3\",\"linecolor\":\"#C8D4E3\",\"minorgridcolor\":\"#C8D4E3\",\"startlinecolor\":\"#2a3f5f\"},\"type\":\"carpet\"}],\"choropleth\":[{\"colorbar\":{\"outlinewidth\":0,\"ticks\":\"\"},\"type\":\"choropleth\"}],\"contourcarpet\":[{\"colorbar\":{\"outlinewidth\":0,\"ticks\":\"\"},\"type\":\"contourcarpet\"}],\"contour\":[{\"colorbar\":{\"outlinewidth\":0,\"ticks\":\"\"},\"colorscale\":[[0.0,\"#0d0887\"],[0.1111111111111111,\"#46039f\"],[0.2222222222222222,\"#7201a8\"],[0.3333333333333333,\"#9c179e\"],[0.4444444444444444,\"#bd3786\"],[0.5555555555555556,\"#d8576b\"],[0.6666666666666666,\"#ed7953\"],[0.7777777777777778,\"#fb9f3a\"],[0.8888888888888888,\"#fdca26\"],[1.0,\"#f0f921\"]],\"type\":\"contour\"}],\"heatmapgl\":[{\"colorbar\":{\"outlinewidth\":0,\"ticks\":\"\"},\"colorscale\":[[0.0,\"#0d0887\"],[0.1111111111111111,\"#46039f\"],[0.2222222222222222,\"#7201a8\"],[0.3333333333333333,\"#9c179e\"],[0.4444444444444444,\"#bd3786\"],[0.5555555555555556,\"#d8576b\"],[0.6666666666666666,\"#ed7953\"],[0.7777777777777778,\"#fb9f3a\"],[0.8888888888888888,\"#fdca26\"],[1.0,\"#f0f921\"]],\"type\":\"heatmapgl\"}],\"heatmap\":[{\"colorbar\":{\"outlinewidth\":0,\"ticks\":\"\"},\"colorscale\":[[0.0,\"#0d0887\"],[0.1111111111111111,\"#46039f\"],[0.2222222222222222,\"#7201a8\"],[0.3333333333333333,\"#9c179e\"],[0.4444444444444444,\"#bd3786\"],[0.5555555555555556,\"#d8576b\"],[0.6666666666666666,\"#ed7953\"],[0.7777777777777778,\"#fb9f3a\"],[0.8888888888888888,\"#fdca26\"],[1.0,\"#f0f921\"]],\"type\":\"heatmap\"}],\"histogram2dcontour\":[{\"colorbar\":{\"outlinewidth\":0,\"ticks\":\"\"},\"colorscale\":[[0.0,\"#0d0887\"],[0.1111111111111111,\"#46039f\"],[0.2222222222222222,\"#7201a8\"],[0.3333333333333333,\"#9c179e\"],[0.4444444444444444,\"#bd3786\"],[0.5555555555555556,\"#d8576b\"],[0.6666666666666666,\"#ed7953\"],[0.7777777777777778,\"#fb9f3a\"],[0.8888888888888888,\"#fdca26\"],[1.0,\"#f0f921\"]],\"type\":\"histogram2dcontour\"}],\"histogram2d\":[{\"colorbar\":{\"outlinewidth\":0,\"ticks\":\"\"},\"colorscale\":[[0.0,\"#0d0887\"],[0.1111111111111111,\"#46039f\"],[0.2222222222222222,\"#7201a8\"],[0.3333333333333333,\"#9c179e\"],[0.4444444444444444,\"#bd3786\"],[0.5555555555555556,\"#d8576b\"],[0.6666666666666666,\"#ed7953\"],[0.7777777777777778,\"#fb9f3a\"],[0.8888888888888888,\"#fdca26\"],[1.0,\"#f0f921\"]],\"type\":\"histogram2d\"}],\"histogram\":[{\"marker\":{\"pattern\":{\"fillmode\":\"overlay\",\"size\":10,\"solidity\":0.2}},\"type\":\"histogram\"}],\"mesh3d\":[{\"colorbar\":{\"outlinewidth\":0,\"ticks\":\"\"},\"type\":\"mesh3d\"}],\"parcoords\":[{\"line\":{\"colorbar\":{\"outlinewidth\":0,\"ticks\":\"\"}},\"type\":\"parcoords\"}],\"pie\":[{\"automargin\":true,\"type\":\"pie\"}],\"scatter3d\":[{\"line\":{\"colorbar\":{\"outlinewidth\":0,\"ticks\":\"\"}},\"marker\":{\"colorbar\":{\"outlinewidth\":0,\"ticks\":\"\"}},\"type\":\"scatter3d\"}],\"scattercarpet\":[{\"marker\":{\"colorbar\":{\"outlinewidth\":0,\"ticks\":\"\"}},\"type\":\"scattercarpet\"}],\"scattergeo\":[{\"marker\":{\"colorbar\":{\"outlinewidth\":0,\"ticks\":\"\"}},\"type\":\"scattergeo\"}],\"scattergl\":[{\"marker\":{\"colorbar\":{\"outlinewidth\":0,\"ticks\":\"\"}},\"type\":\"scattergl\"}],\"scattermapbox\":[{\"marker\":{\"colorbar\":{\"outlinewidth\":0,\"ticks\":\"\"}},\"type\":\"scattermapbox\"}],\"scatterpolargl\":[{\"marker\":{\"colorbar\":{\"outlinewidth\":0,\"ticks\":\"\"}},\"type\":\"scatterpolargl\"}],\"scatterpolar\":[{\"marker\":{\"colorbar\":{\"outlinewidth\":0,\"ticks\":\"\"}},\"type\":\"scatterpolar\"}],\"scatter\":[{\"fillpattern\":{\"fillmode\":\"overlay\",\"size\":10,\"solidity\":0.2},\"type\":\"scatter\"}],\"scatterternary\":[{\"marker\":{\"colorbar\":{\"outlinewidth\":0,\"ticks\":\"\"}},\"type\":\"scatterternary\"}],\"surface\":[{\"colorbar\":{\"outlinewidth\":0,\"ticks\":\"\"},\"colorscale\":[[0.0,\"#0d0887\"],[0.1111111111111111,\"#46039f\"],[0.2222222222222222,\"#7201a8\"],[0.3333333333333333,\"#9c179e\"],[0.4444444444444444,\"#bd3786\"],[0.5555555555555556,\"#d8576b\"],[0.6666666666666666,\"#ed7953\"],[0.7777777777777778,\"#fb9f3a\"],[0.8888888888888888,\"#fdca26\"],[1.0,\"#f0f921\"]],\"type\":\"surface\"}],\"table\":[{\"cells\":{\"fill\":{\"color\":\"#EBF0F8\"},\"line\":{\"color\":\"white\"}},\"header\":{\"fill\":{\"color\":\"#C8D4E3\"},\"line\":{\"color\":\"white\"}},\"type\":\"table\"}]},\"layout\":{\"annotationdefaults\":{\"arrowcolor\":\"#2a3f5f\",\"arrowhead\":0,\"arrowwidth\":1},\"autotypenumbers\":\"strict\",\"coloraxis\":{\"colorbar\":{\"outlinewidth\":0,\"ticks\":\"\"}},\"colorscale\":{\"diverging\":[[0,\"#8e0152\"],[0.1,\"#c51b7d\"],[0.2,\"#de77ae\"],[0.3,\"#f1b6da\"],[0.4,\"#fde0ef\"],[0.5,\"#f7f7f7\"],[0.6,\"#e6f5d0\"],[0.7,\"#b8e186\"],[0.8,\"#7fbc41\"],[0.9,\"#4d9221\"],[1,\"#276419\"]],\"sequential\":[[0.0,\"#0d0887\"],[0.1111111111111111,\"#46039f\"],[0.2222222222222222,\"#7201a8\"],[0.3333333333333333,\"#9c179e\"],[0.4444444444444444,\"#bd3786\"],[0.5555555555555556,\"#d8576b\"],[0.6666666666666666,\"#ed7953\"],[0.7777777777777778,\"#fb9f3a\"],[0.8888888888888888,\"#fdca26\"],[1.0,\"#f0f921\"]],\"sequentialminus\":[[0.0,\"#0d0887\"],[0.1111111111111111,\"#46039f\"],[0.2222222222222222,\"#7201a8\"],[0.3333333333333333,\"#9c179e\"],[0.4444444444444444,\"#bd3786\"],[0.5555555555555556,\"#d8576b\"],[0.6666666666666666,\"#ed7953\"],[0.7777777777777778,\"#fb9f3a\"],[0.8888888888888888,\"#fdca26\"],[1.0,\"#f0f921\"]]},\"colorway\":[\"#636efa\",\"#EF553B\",\"#00cc96\",\"#ab63fa\",\"#FFA15A\",\"#19d3f3\",\"#FF6692\",\"#B6E880\",\"#FF97FF\",\"#FECB52\"],\"font\":{\"color\":\"#2a3f5f\"},\"geo\":{\"bgcolor\":\"white\",\"lakecolor\":\"white\",\"landcolor\":\"white\",\"showlakes\":true,\"showland\":true,\"subunitcolor\":\"#C8D4E3\"},\"hoverlabel\":{\"align\":\"left\"},\"hovermode\":\"closest\",\"mapbox\":{\"style\":\"light\"},\"paper_bgcolor\":\"white\",\"plot_bgcolor\":\"white\",\"polar\":{\"angularaxis\":{\"gridcolor\":\"#EBF0F8\",\"linecolor\":\"#EBF0F8\",\"ticks\":\"\"},\"bgcolor\":\"white\",\"radialaxis\":{\"gridcolor\":\"#EBF0F8\",\"linecolor\":\"#EBF0F8\",\"ticks\":\"\"}},\"scene\":{\"xaxis\":{\"backgroundcolor\":\"white\",\"gridcolor\":\"#DFE8F3\",\"gridwidth\":2,\"linecolor\":\"#EBF0F8\",\"showbackground\":true,\"ticks\":\"\",\"zerolinecolor\":\"#EBF0F8\"},\"yaxis\":{\"backgroundcolor\":\"white\",\"gridcolor\":\"#DFE8F3\",\"gridwidth\":2,\"linecolor\":\"#EBF0F8\",\"showbackground\":true,\"ticks\":\"\",\"zerolinecolor\":\"#EBF0F8\"},\"zaxis\":{\"backgroundcolor\":\"white\",\"gridcolor\":\"#DFE8F3\",\"gridwidth\":2,\"linecolor\":\"#EBF0F8\",\"showbackground\":true,\"ticks\":\"\",\"zerolinecolor\":\"#EBF0F8\"}},\"shapedefaults\":{\"line\":{\"color\":\"#2a3f5f\"}},\"ternary\":{\"aaxis\":{\"gridcolor\":\"#DFE8F3\",\"linecolor\":\"#A2B1C6\",\"ticks\":\"\"},\"baxis\":{\"gridcolor\":\"#DFE8F3\",\"linecolor\":\"#A2B1C6\",\"ticks\":\"\"},\"bgcolor\":\"white\",\"caxis\":{\"gridcolor\":\"#DFE8F3\",\"linecolor\":\"#A2B1C6\",\"ticks\":\"\"}},\"title\":{\"x\":0.05},\"xaxis\":{\"automargin\":true,\"gridcolor\":\"#EBF0F8\",\"linecolor\":\"#EBF0F8\",\"ticks\":\"\",\"title\":{\"standoff\":15},\"zerolinecolor\":\"#EBF0F8\",\"zerolinewidth\":2},\"yaxis\":{\"automargin\":true,\"gridcolor\":\"#EBF0F8\",\"linecolor\":\"#EBF0F8\",\"ticks\":\"\",\"title\":{\"standoff\":15},\"zerolinecolor\":\"#EBF0F8\",\"zerolinewidth\":2}}},\"xaxis\":{\"anchor\":\"y\",\"domain\":[0.0,0.175],\"showgrid\":true},\"yaxis\":{\"anchor\":\"x\",\"domain\":[0.0,1.0],\"showgrid\":true},\"xaxis2\":{\"anchor\":\"y2\",\"domain\":[0.275,0.45],\"showgrid\":true},\"yaxis2\":{\"anchor\":\"x2\",\"domain\":[0.0,1.0],\"showgrid\":true},\"xaxis3\":{\"anchor\":\"y3\",\"domain\":[0.55,0.7250000000000001],\"showgrid\":true},\"yaxis3\":{\"anchor\":\"x3\",\"domain\":[0.0,1.0],\"showgrid\":true},\"xaxis4\":{\"anchor\":\"y4\",\"domain\":[0.825,1.0],\"showgrid\":true},\"yaxis4\":{\"anchor\":\"x4\",\"domain\":[0.0,1.0],\"showgrid\":true},\"annotations\":[{\"font\":{\"size\":16},\"showarrow\":false,\"text\":\"Topic 0\",\"x\":0.0875,\"xanchor\":\"center\",\"xref\":\"paper\",\"y\":1.0,\"yanchor\":\"bottom\",\"yref\":\"paper\"},{\"font\":{\"size\":16},\"showarrow\":false,\"text\":\"Topic 1\",\"x\":0.36250000000000004,\"xanchor\":\"center\",\"xref\":\"paper\",\"y\":1.0,\"yanchor\":\"bottom\",\"yref\":\"paper\"},{\"font\":{\"size\":16},\"showarrow\":false,\"text\":\"Topic 2\",\"x\":0.6375000000000001,\"xanchor\":\"center\",\"xref\":\"paper\",\"y\":1.0,\"yanchor\":\"bottom\",\"yref\":\"paper\"}],\"title\":{\"font\":{\"size\":22,\"color\":\"Black\"},\"text\":\"Topic Word Scores\",\"x\":0.5,\"xanchor\":\"center\",\"yanchor\":\"top\"},\"hoverlabel\":{\"font\":{\"size\":16,\"family\":\"Rockwell\"},\"bgcolor\":\"white\"},\"showlegend\":false,\"width\":1000,\"height\":325.0},                        {\"responsive\": true}                    ).then(function(){\n",
              "                            \n",
              "var gd = document.getElementById('01a475d3-9dd1-45f1-8480-cf9de02885ab');\n",
              "var x = new MutationObserver(function (mutations, observer) {{\n",
              "        var display = window.getComputedStyle(gd).display;\n",
              "        if (!display || display === 'none') {{\n",
              "            console.log([gd, 'removed!']);\n",
              "            Plotly.purge(gd);\n",
              "            observer.disconnect();\n",
              "        }}\n",
              "}});\n",
              "\n",
              "// Listen for the removal of the full notebook cells\n",
              "var notebookContainer = gd.closest('#notebook-container');\n",
              "if (notebookContainer) {{\n",
              "    x.observe(notebookContainer, {childList: true});\n",
              "}}\n",
              "\n",
              "// Listen for the clearing of the current output cell\n",
              "var outputEl = gd.closest('.output');\n",
              "if (outputEl) {{\n",
              "    x.observe(outputEl, {childList: true});\n",
              "}}\n",
              "\n",
              "                        })                };                            </script>        </div>\n",
              "</body>\n",
              "</html>"
            ]
          },
          "metadata": {}
        }
      ],
      "source": [
        "# Visualize the top 3 topics in the topic model\n",
        "topic_model_tweet.visualize_barchart(top_n_topics=3)"
      ]
    }
  ],
  "metadata": {
    "accelerator": "GPU",
    "colab": {
      "gpuType": "T4",
      "provenance": [],
      "include_colab_link": true
    },
    "kernelspec": {
      "display_name": "Python 3",
      "name": "python3"
    },
    "language_info": {
      "codemirror_mode": {
        "name": "ipython",
        "version": 3
      },
      "file_extension": ".py",
      "mimetype": "text/x-python",
      "name": "python",
      "nbconvert_exporter": "python",
      "pygments_lexer": "ipython3",
      "version": "3.11.9"
    }
  },
  "nbformat": 4,
  "nbformat_minor": 0
}